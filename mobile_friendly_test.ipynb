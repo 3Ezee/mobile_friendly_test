{
 "cells": [
  {
   "cell_type": "code",
   "execution_count": 113,
   "metadata": {},
   "outputs": [],
   "source": [
    "listUrls = [\"https://vehiculos.mercadolibre.com.ar/accesorios/_Tienda_citroen\",\n",
    "            \"https://www.clarin.cosm/\",\n",
    "            \"https://twitter.com/\"]"
   ]
  },
  {
   "cell_type": "code",
   "execution_count": 111,
   "metadata": {},
   "outputs": [],
   "source": [
    "import requests\n",
    "import pandas as pd\n",
    "\n",
    "def getDataFrame(listUrls):\n",
    "    return pd.DataFrame(data = getListData(listUrls), columns = columnsName)\n",
    "\n",
    "def getElem(url):\n",
    "    api = \"https://www.googleapis.com/pagespeedonline/v3beta1/mobileReady?url=\"\n",
    "    response = requests.get(api+url)\n",
    "    return getInfo(response.json())\n",
    "\n",
    "def getInfo(data):\n",
    "    \n",
    "    return [data['id'],\n",
    "            data['responseCode'],\n",
    "            data['ruleGroups']['USABILITY']['score'],\n",
    "            data['ruleGroups']['USABILITY']['pass'],\n",
    "            data['pageStats']['numberRobotedResources'],\n",
    "            data['pageStats']['numberTransientFetchFailureResources'],\n",
    "            data['formattedResults']['ruleResults']['ConfigureViewport']['ruleImpact'],\n",
    "            data['formattedResults']['ruleResults']['UseLegibleFontSizes']['ruleImpact'],\n",
    "            data['formattedResults']['ruleResults']['AvoidPlugins']['ruleImpact'],\n",
    "            data['formattedResults']['ruleResults']['SizeContentToViewport']['ruleImpact'],\n",
    "            data['formattedResults']['ruleResults']['SizeTapTargetsAppropriately']['ruleImpact']]\n",
    "\n",
    "def getListData(listUrls):    \n",
    "    i=1\n",
    "    listData = []\n",
    "    for url in listUrls:\n",
    "        listData.append(getElem(url))\n",
    "        print(str(i)+\"/\"+str(len(listUrls)))\n",
    "        i = i+1\n",
    "    return listData\n",
    "\n",
    "columnsName = ['idPage',\n",
    "               'responseCode',\n",
    "               'score',\n",
    "               'passed',\n",
    "               'numberRobotedResources',\n",
    "               'numberTransientFetchFailureResources',\n",
    "               'configureViewport',\n",
    "               'useLegibleFontSizes',\n",
    "               'avoidPlugins',\n",
    "               'sizeContentToViewport',\n",
    "               'sizeTapTargetsAppropriately']\n",
    "    \n"
   ]
  },
  {
   "cell_type": "code",
   "execution_count": 112,
   "metadata": {},
   "outputs": [
    {
     "name": "stdout",
     "output_type": "stream",
     "text": [
      "1/3\n",
      "2/3\n",
      "3/3\n"
     ]
    }
   ],
   "source": [
    "df = getDataFrame(listUrls)"
   ]
  },
  {
   "cell_type": "code",
   "execution_count": 108,
   "metadata": {},
   "outputs": [
    {
     "data": {
      "text/html": [
       "<div>\n",
       "<style scoped>\n",
       "    .dataframe tbody tr th:only-of-type {\n",
       "        vertical-align: middle;\n",
       "    }\n",
       "\n",
       "    .dataframe tbody tr th {\n",
       "        vertical-align: top;\n",
       "    }\n",
       "\n",
       "    .dataframe thead th {\n",
       "        text-align: right;\n",
       "    }\n",
       "</style>\n",
       "<table border=\"1\" class=\"dataframe\">\n",
       "  <thead>\n",
       "    <tr style=\"text-align: right;\">\n",
       "      <th></th>\n",
       "      <th>idPage</th>\n",
       "      <th>responseCode</th>\n",
       "      <th>score</th>\n",
       "      <th>passed</th>\n",
       "      <th>numberRobotedResources</th>\n",
       "      <th>numberTransientFetchFailureResources</th>\n",
       "      <th>configureViewport</th>\n",
       "      <th>useLegibleFontSizes</th>\n",
       "      <th>avoidPlugins</th>\n",
       "      <th>sizeContentToViewport</th>\n",
       "      <th>sizeTapTargetsAppropriately</th>\n",
       "    </tr>\n",
       "  </thead>\n",
       "  <tbody>\n",
       "    <tr>\n",
       "      <th>0</th>\n",
       "      <td>https://vehiculos.mercadolibre.com.ar/accesori...</td>\n",
       "      <td>200</td>\n",
       "      <td>99</td>\n",
       "      <td>True</td>\n",
       "      <td>0</td>\n",
       "      <td>0</td>\n",
       "      <td>0.0</td>\n",
       "      <td>0.0</td>\n",
       "      <td>0.0</td>\n",
       "      <td>0.0</td>\n",
       "      <td>0.012244</td>\n",
       "    </tr>\n",
       "    <tr>\n",
       "      <th>1</th>\n",
       "      <td>https://www.clarin.com/</td>\n",
       "      <td>200</td>\n",
       "      <td>99</td>\n",
       "      <td>True</td>\n",
       "      <td>4</td>\n",
       "      <td>0</td>\n",
       "      <td>0.0</td>\n",
       "      <td>0.0</td>\n",
       "      <td>0.0</td>\n",
       "      <td>0.0</td>\n",
       "      <td>0.803306</td>\n",
       "    </tr>\n",
       "    <tr>\n",
       "      <th>2</th>\n",
       "      <td>https://mobile.twitter.com/</td>\n",
       "      <td>200</td>\n",
       "      <td>97</td>\n",
       "      <td>True</td>\n",
       "      <td>0</td>\n",
       "      <td>0</td>\n",
       "      <td>0.0</td>\n",
       "      <td>0.0</td>\n",
       "      <td>0.0</td>\n",
       "      <td>0.0</td>\n",
       "      <td>2.041588</td>\n",
       "    </tr>\n",
       "  </tbody>\n",
       "</table>\n",
       "</div>"
      ],
      "text/plain": [
       "                                              idPage  responseCode  score  \\\n",
       "0  https://vehiculos.mercadolibre.com.ar/accesori...           200     99   \n",
       "1                            https://www.clarin.com/           200     99   \n",
       "2                        https://mobile.twitter.com/           200     97   \n",
       "\n",
       "   passed  numberRobotedResources  numberTransientFetchFailureResources  \\\n",
       "0    True                       0                                     0   \n",
       "1    True                       4                                     0   \n",
       "2    True                       0                                     0   \n",
       "\n",
       "   configureViewport  useLegibleFontSizes  avoidPlugins  \\\n",
       "0                0.0                  0.0           0.0   \n",
       "1                0.0                  0.0           0.0   \n",
       "2                0.0                  0.0           0.0   \n",
       "\n",
       "   sizeContentToViewport  sizeTapTargetsAppropriately  \n",
       "0                    0.0                     0.012244  \n",
       "1                    0.0                     0.803306  \n",
       "2                    0.0                     2.041588  "
      ]
     },
     "execution_count": 108,
     "metadata": {},
     "output_type": "execute_result"
    }
   ],
   "source": [
    "df.tail()"
   ]
  }
 ],
 "metadata": {
  "kernelspec": {
   "display_name": "Python 3",
   "language": "python",
   "name": "python3"
  },
  "language_info": {
   "codemirror_mode": {
    "name": "ipython",
    "version": 3
   },
   "file_extension": ".py",
   "mimetype": "text/x-python",
   "name": "python",
   "nbconvert_exporter": "python",
   "pygments_lexer": "ipython3",
   "version": "3.7.0"
  },
  "widgets": {
   "application/vnd.jupyter.widget-state+json": {
    "state": {},
    "version_major": 2,
    "version_minor": 0
   }
  }
 },
 "nbformat": 4,
 "nbformat_minor": 2
}
