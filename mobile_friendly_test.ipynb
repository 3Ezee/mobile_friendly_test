{
 "cells": [
  {
   "cell_type": "code",
   "execution_count": 43,
   "metadata": {},
   "outputs": [],
   "source": [
    "listUrls = [\"https://vehiculos.mercadolibre.com.ar/accesorios/_Tienda_citroen\",\n",
    "            \"https://www.clarin.codm/\",\n",
    "            \"https://twitter.com/\"]"
   ]
  },
  {
   "cell_type": "code",
   "execution_count": 44,
   "metadata": {},
   "outputs": [],
   "source": [
    "import requests\n",
    "import pandas as pd\n",
    "\n",
    "def getDataFrame(listUrls):\n",
    "    print('Processing...')\n",
    "    return pd.DataFrame(data = getListData(listUrls), columns = columnsName)\n",
    "\n",
    "def getElem(url):\n",
    "    api = \"https://www.googleapis.com/pagespeedonline/v3beta1/mobileReady?url=\"\n",
    "    response = requests.get(api+url)\n",
    "    \n",
    "    apiSpeed = \"https://www.googleapis.com/pagespeedonline/v4/runPagespeed?url=\"\n",
    "    responseSpeed = requests.get(apiSpeed+url)\n",
    "    \n",
    "    return getInfo(response.json(), responseSpeed.json())\n",
    "\n",
    "def getInfo(data, data2):\n",
    "    \n",
    "    return [data['id'],\n",
    "            data['responseCode'],\n",
    "            data2['ruleGroups']['SPEED']['score'],\n",
    "            data['ruleGroups']['USABILITY']['score'],\n",
    "            data['ruleGroups']['USABILITY']['pass'],\n",
    "            data['pageStats']['numberRobotedResources'],\n",
    "            data['pageStats']['numberTransientFetchFailureResources'],\n",
    "            data['formattedResults']['ruleResults']['ConfigureViewport']['ruleImpact'],\n",
    "            data['formattedResults']['ruleResults']['UseLegibleFontSizes']['ruleImpact'],\n",
    "            data['formattedResults']['ruleResults']['AvoidPlugins']['ruleImpact'],\n",
    "            data['formattedResults']['ruleResults']['SizeContentToViewport']['ruleImpact'],\n",
    "            data['formattedResults']['ruleResults']['SizeTapTargetsAppropriately']['ruleImpact']]\n",
    "\n",
    "def getListData(listUrls):    \n",
    "    i=1\n",
    "    listData = []\n",
    "    for url in listUrls:\n",
    "        try:\n",
    "            listData.append(getElem(url))\n",
    "            print(str(i)+\"/\"+str(len(listUrls)))\n",
    "        except:\n",
    "            print(str(i)+\"/\"+str(len(listUrls)) + \" 400-Bad request ( \"+url+ \" )\")\n",
    "            \n",
    "        i = i+1\n",
    "    print('Done!')    \n",
    "    \n",
    "    return listData\n",
    "\n",
    "columnsName = ['idPage',\n",
    "               'responseCode',\n",
    "               'speed',\n",
    "               'score',\n",
    "               'passed',\n",
    "               'numberRobotedResources',\n",
    "               'numberTransientFetchFailureResources',\n",
    "               'configureViewport',\n",
    "               'useLegibleFontSizes',\n",
    "               'avoidPlugins',\n",
    "               'sizeContentToViewport',\n",
    "               'sizeTapTargetsAppropriately']\n",
    "    \n"
   ]
  },
  {
   "cell_type": "code",
   "execution_count": 45,
   "metadata": {},
   "outputs": [
    {
     "name": "stdout",
     "output_type": "stream",
     "text": [
      "Processing...\n",
      "1/3\n",
      "2/3 400-Bad request ( https://www.clarin.codm/ )\n",
      "3/3\n",
      "Done!\n"
     ]
    }
   ],
   "source": [
    "df = getDataFrame(listUrls)"
   ]
  },
  {
   "cell_type": "code",
   "execution_count": 46,
   "metadata": {
    "scrolled": true
   },
   "outputs": [
    {
     "data": {
      "text/html": [
       "<div>\n",
       "<style scoped>\n",
       "    .dataframe tbody tr th:only-of-type {\n",
       "        vertical-align: middle;\n",
       "    }\n",
       "\n",
       "    .dataframe tbody tr th {\n",
       "        vertical-align: top;\n",
       "    }\n",
       "\n",
       "    .dataframe thead th {\n",
       "        text-align: right;\n",
       "    }\n",
       "</style>\n",
       "<table border=\"1\" class=\"dataframe\">\n",
       "  <thead>\n",
       "    <tr style=\"text-align: right;\">\n",
       "      <th></th>\n",
       "      <th>idPage</th>\n",
       "      <th>responseCode</th>\n",
       "      <th>speed</th>\n",
       "      <th>score</th>\n",
       "      <th>passed</th>\n",
       "      <th>numberRobotedResources</th>\n",
       "      <th>numberTransientFetchFailureResources</th>\n",
       "      <th>configureViewport</th>\n",
       "      <th>useLegibleFontSizes</th>\n",
       "      <th>avoidPlugins</th>\n",
       "      <th>sizeContentToViewport</th>\n",
       "      <th>sizeTapTargetsAppropriately</th>\n",
       "    </tr>\n",
       "  </thead>\n",
       "  <tbody>\n",
       "    <tr>\n",
       "      <th>0</th>\n",
       "      <td>https://vehiculos.mercadolibre.com.ar/accesori...</td>\n",
       "      <td>200</td>\n",
       "      <td>74</td>\n",
       "      <td>99</td>\n",
       "      <td>True</td>\n",
       "      <td>0</td>\n",
       "      <td>0</td>\n",
       "      <td>0.0</td>\n",
       "      <td>0.0</td>\n",
       "      <td>0.0</td>\n",
       "      <td>0.0</td>\n",
       "      <td>0.012244</td>\n",
       "    </tr>\n",
       "    <tr>\n",
       "      <th>1</th>\n",
       "      <td>https://mobile.twitter.com/</td>\n",
       "      <td>200</td>\n",
       "      <td>89</td>\n",
       "      <td>97</td>\n",
       "      <td>True</td>\n",
       "      <td>0</td>\n",
       "      <td>0</td>\n",
       "      <td>0.0</td>\n",
       "      <td>0.0</td>\n",
       "      <td>0.0</td>\n",
       "      <td>0.0</td>\n",
       "      <td>2.041588</td>\n",
       "    </tr>\n",
       "  </tbody>\n",
       "</table>\n",
       "</div>"
      ],
      "text/plain": [
       "                                              idPage  responseCode  speed  \\\n",
       "0  https://vehiculos.mercadolibre.com.ar/accesori...           200     74   \n",
       "1                        https://mobile.twitter.com/           200     89   \n",
       "\n",
       "   score  passed  numberRobotedResources  \\\n",
       "0     99    True                       0   \n",
       "1     97    True                       0   \n",
       "\n",
       "   numberTransientFetchFailureResources  configureViewport  \\\n",
       "0                                     0                0.0   \n",
       "1                                     0                0.0   \n",
       "\n",
       "   useLegibleFontSizes  avoidPlugins  sizeContentToViewport  \\\n",
       "0                  0.0           0.0                    0.0   \n",
       "1                  0.0           0.0                    0.0   \n",
       "\n",
       "   sizeTapTargetsAppropriately  \n",
       "0                     0.012244  \n",
       "1                     2.041588  "
      ]
     },
     "execution_count": 46,
     "metadata": {},
     "output_type": "execute_result"
    }
   ],
   "source": [
    "df"
   ]
  },
  {
   "cell_type": "code",
   "execution_count": null,
   "metadata": {},
   "outputs": [],
   "source": []
  },
  {
   "cell_type": "code",
   "execution_count": null,
   "metadata": {},
   "outputs": [],
   "source": []
  }
 ],
 "metadata": {
  "kernelspec": {
   "display_name": "Python 3",
   "language": "python",
   "name": "python3"
  },
  "language_info": {
   "codemirror_mode": {
    "name": "ipython",
    "version": 3
   },
   "file_extension": ".py",
   "mimetype": "text/x-python",
   "name": "python",
   "nbconvert_exporter": "python",
   "pygments_lexer": "ipython3",
   "version": "3.7.0"
  },
  "widgets": {
   "application/vnd.jupyter.widget-state+json": {
    "state": {},
    "version_major": 2,
    "version_minor": 0
   }
  }
 },
 "nbformat": 4,
 "nbformat_minor": 2
}
